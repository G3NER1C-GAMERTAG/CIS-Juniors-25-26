{
 "cells": [
  {
   "cell_type": "markdown",
   "id": "8cac6790",
   "metadata": {},
   "source": [
    "# Introduction to HTML"
   ]
  },
  {
   "cell_type": "markdown",
   "id": "7a354fea",
   "metadata": {},
   "source": [
    "## HTML Defined\n",
    "\n",
    "**HTML** - Hypertext Markup Language - This is the language used to describe your content.\n",
    "\n",
    "**CSS** - Cascading Style Sheets - This is the language used to design the way your content looks on the web.\n",
    "\n",
    "**JavaScript** - NOT to be confused with Java - JS is the language used for adding interactivity to web pages.\n",
    "\n",
    "### These are the three main web languages."
   ]
  },
  {
   "cell_type": "markdown",
   "id": "2303c5c1",
   "metadata": {},
   "source": [
    "### Web Browsers\n",
    "\n",
    "* Software used for browsing, reading, and translating web documents.\n",
    "* Examples of web browsers: \n",
    "    * Google Chrome\n",
    "    * Mozilla Firefox\n",
    "    * Microsoft Edge\n",
    "    * Opera GX\n",
    "    * DuckDuckGo\n",
    "    * Safari\n",
    "    * Brave\n",
    "    * Internet Explorer (MS) - Depricated\n",
    "    * Netscape - Depricated\n",
    "* Why you do not use old or outdated browsers\n",
    "    * Security - security updates"
   ]
  },
  {
   "cell_type": "markdown",
   "id": "ec554c19",
   "metadata": {},
   "source": []
  },
  {
   "cell_type": "markdown",
   "id": "39b42add",
   "metadata": {},
   "source": []
  },
  {
   "cell_type": "markdown",
   "id": "c72d5322",
   "metadata": {},
   "source": [
    "### HTML Skeleton/Structure\n",
    "\n",
    "#### See index.html in this folder\n",
    "\n",
    "### Structure of an HTML Tag:\n",
    "\n",
    "\n",
    "<meta charset=\"UTF-8\">\n",
    "\n",
    "* Tag name\n",
    "* Attribute(s),\n",
    "* Attribute Value"
   ]
  },
  {
   "cell_type": "markdown",
   "id": "ce15394e",
   "metadata": {},
   "source": [
    "### Key Concepts of HTML\n",
    "\n",
    "* Most HTML Tags have an Opening & Closing Tag\n",
    "* HTML Elements - These are created by a complete pair of tags with content\n",
    "* Attributes - additional information about the elements\n",
    "\n",
    "#### Essential HTML Elements:\n",
    "\n",
    "* < h1 >< /h1 > through < h6 >< /h6 > - headings, H1 is the largest by default, H6 is the smallest\n",
    "* < p > - paragraph element\n",
    "* < br > - Line Break"
   ]
  },
  {
   "cell_type": "markdown",
   "id": "c4ea632a",
   "metadata": {},
   "source": []
  },
  {
   "cell_type": "code",
   "execution_count": null,
   "id": "fa6947d0",
   "metadata": {
    "vscode": {
     "languageId": "plaintext"
    }
   },
   "outputs": [],
   "source": []
  }
 ],
 "metadata": {
  "language_info": {
   "name": "python"
  }
 },
 "nbformat": 4,
 "nbformat_minor": 5
}
